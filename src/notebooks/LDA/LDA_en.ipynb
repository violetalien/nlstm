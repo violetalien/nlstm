{
  "nbformat": 4,
  "nbformat_minor": 0,
  "metadata": {
    "colab": {
      "name": "LDA.ipynb",
      "provenance": []
    },
    "kernelspec": {
      "name": "python3",
      "display_name": "Python 3"
    },
    "language_info": {
      "name": "python"
    }
  },
  "cells": [
    {
      "cell_type": "code",
      "metadata": {
        "id": "PouaQpxSfpZo"
      },
      "source": [
        "import pandas as pd\n",
        "import numpy as np\n",
        "\n",
        "import re\n",
        "import string\n",
        "\n",
        "import spacy\n",
        "\n",
        "import gensim\n",
        "from gensim import corpora\n",
        "\n",
        "# libraries for visualization\n",
        "#!pip install pyLDAvis\n",
        "#import pyLDAvis\n",
        "#import pyLDAvis.gensim_models\n",
        "import matplotlib.pyplot as plt\n",
        "import seaborn as sns\n",
        "%matplotlib inline"
      ],
      "execution_count": 2,
      "outputs": []
    },
    {
      "cell_type": "code",
      "metadata": {
        "colab": {
          "base_uri": "https://localhost:8080/",
          "height": 206
        },
        "id": "vwQ7NT0YgUFi",
        "outputId": "97997965-d850-4c21-b367-a5a91fabae94"
      },
      "source": [
        "data= pd.read_csv(\"Google.csv\",  sep = \";\")\n",
        "data.head()\n"
      ],
      "execution_count": 4,
      "outputs": [
        {
          "output_type": "execute_result",
          "data": {
            "text/html": [
              "<div>\n",
              "<style scoped>\n",
              "    .dataframe tbody tr th:only-of-type {\n",
              "        vertical-align: middle;\n",
              "    }\n",
              "\n",
              "    .dataframe tbody tr th {\n",
              "        vertical-align: top;\n",
              "    }\n",
              "\n",
              "    .dataframe thead th {\n",
              "        text-align: right;\n",
              "    }\n",
              "</style>\n",
              "<table border=\"1\" class=\"dataframe\">\n",
              "  <thead>\n",
              "    <tr style=\"text-align: right;\">\n",
              "      <th></th>\n",
              "      <th>age</th>\n",
              "      <th>gender</th>\n",
              "      <th>humanmade</th>\n",
              "      <th>concern</th>\n",
              "      <th>efficacy</th>\n",
              "      <th>income</th>\n",
              "      <th>edu3</th>\n",
              "      <th>openanswer</th>\n",
              "      <th>translation</th>\n",
              "    </tr>\n",
              "  </thead>\n",
              "  <tbody>\n",
              "    <tr>\n",
              "      <th>0</th>\n",
              "      <td>5</td>\n",
              "      <td>2</td>\n",
              "      <td>1</td>\n",
              "      <td>1.00</td>\n",
              "      <td>0.333333</td>\n",
              "      <td>400000</td>\n",
              "      <td>3</td>\n",
              "      <td>Å være miljø vennlig</td>\n",
              "      <td>Being environmentally friendly</td>\n",
              "    </tr>\n",
              "    <tr>\n",
              "      <th>1</th>\n",
              "      <td>4</td>\n",
              "      <td>1</td>\n",
              "      <td>0</td>\n",
              "      <td>0.50</td>\n",
              "      <td>0.333333</td>\n",
              "      <td>600000</td>\n",
              "      <td>2</td>\n",
              "      <td>å så?har altid vært klimaendring</td>\n",
              "      <td>to sow? has always been climate change</td>\n",
              "    </tr>\n",
              "    <tr>\n",
              "      <th>2</th>\n",
              "      <td>4</td>\n",
              "      <td>1</td>\n",
              "      <td>1</td>\n",
              "      <td>0.75</td>\n",
              "      <td>0.333333</td>\n",
              "      <td>500000</td>\n",
              "      <td>3</td>\n",
              "      <td>Å stange hodet mot veggen</td>\n",
              "      <td>To bumping your head against the wall</td>\n",
              "    </tr>\n",
              "    <tr>\n",
              "      <th>3</th>\n",
              "      <td>4</td>\n",
              "      <td>2</td>\n",
              "      <td>1</td>\n",
              "      <td>1.00</td>\n",
              "      <td>0.333333</td>\n",
              "      <td>0</td>\n",
              "      <td>3</td>\n",
              "      <td>å nei ikke igjen - gjør noe med det - NÅ</td>\n",
              "      <td>oh no not again - do something about it - NOW</td>\n",
              "    </tr>\n",
              "    <tr>\n",
              "      <th>4</th>\n",
              "      <td>2</td>\n",
              "      <td>2</td>\n",
              "      <td>1</td>\n",
              "      <td>0.75</td>\n",
              "      <td>0.333333</td>\n",
              "      <td>0</td>\n",
              "      <td>2</td>\n",
              "      <td>Ønsker ikke at klima skal endres</td>\n",
              "      <td>Do not want that climate change will</td>\n",
              "    </tr>\n",
              "  </tbody>\n",
              "</table>\n",
              "</div>"
            ],
            "text/plain": [
              "   age  ...                                    translation\n",
              "0    5  ...                 Being environmentally friendly\n",
              "1    4  ...         to sow? has always been climate change\n",
              "2    4  ...          To bumping your head against the wall\n",
              "3    4  ...  oh no not again - do something about it - NOW\n",
              "4    2  ...           Do not want that climate change will\n",
              "\n",
              "[5 rows x 9 columns]"
            ]
          },
          "metadata": {
            "tags": []
          },
          "execution_count": 4
        }
      ]
    },
    {
      "cell_type": "code",
      "metadata": {
        "id": "5cQzkbcOio_H"
      },
      "source": [
        "def clean_text(text ): \n",
        "    delete_dict = {sp_character: '' for sp_character in string.punctuation} \n",
        "    delete_dict[' '] = ' ' \n",
        "    table = str.maketrans(delete_dict)\n",
        "    text1 = text.translate(table)\n",
        "    #print('cleaned:'+text1)\n",
        "    textArr= text1.split()\n",
        "    text2 = ' '.join([w for w in textArr if ( not w.isdigit() and  ( not w.isdigit() and len(w)>3))]) \n",
        "    \n",
        "    return text2.lower()"
      ],
      "execution_count": 5,
      "outputs": []
    },
    {
      "cell_type": "code",
      "metadata": {
        "colab": {
          "base_uri": "https://localhost:8080/"
        },
        "id": "smASVzsffxrH",
        "outputId": "0fda6e60-aea5-48a0-8bca-e527c2746197"
      },
      "source": [
        "import nltk\n",
        "nltk.download('stopwords') # run this one time\n",
        "\n"
      ],
      "execution_count": 6,
      "outputs": [
        {
          "output_type": "stream",
          "text": [
            "[nltk_data] Downloading package stopwords to /root/nltk_data...\n",
            "[nltk_data]   Unzipping corpora/stopwords.zip.\n"
          ],
          "name": "stdout"
        },
        {
          "output_type": "execute_result",
          "data": {
            "text/plain": [
              "True"
            ]
          },
          "metadata": {
            "tags": []
          },
          "execution_count": 6
        }
      ]
    },
    {
      "cell_type": "code",
      "metadata": {
        "colab": {
          "base_uri": "https://localhost:8080/",
          "height": 206
        },
        "id": "HOrscCIJiuly",
        "outputId": "915653d7-54ab-4206-f795-c6d63d9056b9"
      },
      "source": [
        "data.dropna(axis = 0, how ='any',inplace=True) \n",
        "\n",
        "data['translation'] = data['translation'].apply(clean_text)\n",
        "data['Num_words_text'] = data['translation'].apply(lambda x:len(str(x).split())) \n",
        "\n",
        "data.head()\n",
        "#all_sentences = train_data['text'].tolist() + test_data['text'].tolist()"
      ],
      "execution_count": 7,
      "outputs": [
        {
          "output_type": "execute_result",
          "data": {
            "text/html": [
              "<div>\n",
              "<style scoped>\n",
              "    .dataframe tbody tr th:only-of-type {\n",
              "        vertical-align: middle;\n",
              "    }\n",
              "\n",
              "    .dataframe tbody tr th {\n",
              "        vertical-align: top;\n",
              "    }\n",
              "\n",
              "    .dataframe thead th {\n",
              "        text-align: right;\n",
              "    }\n",
              "</style>\n",
              "<table border=\"1\" class=\"dataframe\">\n",
              "  <thead>\n",
              "    <tr style=\"text-align: right;\">\n",
              "      <th></th>\n",
              "      <th>age</th>\n",
              "      <th>gender</th>\n",
              "      <th>humanmade</th>\n",
              "      <th>concern</th>\n",
              "      <th>efficacy</th>\n",
              "      <th>income</th>\n",
              "      <th>edu3</th>\n",
              "      <th>openanswer</th>\n",
              "      <th>translation</th>\n",
              "      <th>Num_words_text</th>\n",
              "    </tr>\n",
              "  </thead>\n",
              "  <tbody>\n",
              "    <tr>\n",
              "      <th>0</th>\n",
              "      <td>5</td>\n",
              "      <td>2</td>\n",
              "      <td>1</td>\n",
              "      <td>1.00</td>\n",
              "      <td>0.333333</td>\n",
              "      <td>400000</td>\n",
              "      <td>3</td>\n",
              "      <td>Å være miljø vennlig</td>\n",
              "      <td>being environmentally friendly</td>\n",
              "      <td>3</td>\n",
              "    </tr>\n",
              "    <tr>\n",
              "      <th>1</th>\n",
              "      <td>4</td>\n",
              "      <td>1</td>\n",
              "      <td>0</td>\n",
              "      <td>0.50</td>\n",
              "      <td>0.333333</td>\n",
              "      <td>600000</td>\n",
              "      <td>2</td>\n",
              "      <td>å så?har altid vært klimaendring</td>\n",
              "      <td>always been climate change</td>\n",
              "      <td>4</td>\n",
              "    </tr>\n",
              "    <tr>\n",
              "      <th>2</th>\n",
              "      <td>4</td>\n",
              "      <td>1</td>\n",
              "      <td>1</td>\n",
              "      <td>0.75</td>\n",
              "      <td>0.333333</td>\n",
              "      <td>500000</td>\n",
              "      <td>3</td>\n",
              "      <td>Å stange hodet mot veggen</td>\n",
              "      <td>bumping your head against wall</td>\n",
              "      <td>5</td>\n",
              "    </tr>\n",
              "    <tr>\n",
              "      <th>3</th>\n",
              "      <td>4</td>\n",
              "      <td>2</td>\n",
              "      <td>1</td>\n",
              "      <td>1.00</td>\n",
              "      <td>0.333333</td>\n",
              "      <td>0</td>\n",
              "      <td>3</td>\n",
              "      <td>å nei ikke igjen - gjør noe med det - NÅ</td>\n",
              "      <td>again something about</td>\n",
              "      <td>3</td>\n",
              "    </tr>\n",
              "    <tr>\n",
              "      <th>4</th>\n",
              "      <td>2</td>\n",
              "      <td>2</td>\n",
              "      <td>1</td>\n",
              "      <td>0.75</td>\n",
              "      <td>0.333333</td>\n",
              "      <td>0</td>\n",
              "      <td>2</td>\n",
              "      <td>Ønsker ikke at klima skal endres</td>\n",
              "      <td>want that climate change will</td>\n",
              "      <td>5</td>\n",
              "    </tr>\n",
              "  </tbody>\n",
              "</table>\n",
              "</div>"
            ],
            "text/plain": [
              "   age  gender  ...                     translation  Num_words_text\n",
              "0    5       2  ...  being environmentally friendly               3\n",
              "1    4       1  ...      always been climate change               4\n",
              "2    4       1  ...  bumping your head against wall               5\n",
              "3    4       2  ...           again something about               3\n",
              "4    2       2  ...   want that climate change will               5\n",
              "\n",
              "[5 rows x 10 columns]"
            ]
          },
          "metadata": {
            "tags": []
          },
          "execution_count": 7
        }
      ]
    },
    {
      "cell_type": "code",
      "metadata": {
        "id": "ycj7ImAtjDMV"
      },
      "source": [
        "from nltk.corpus import stopwords\n",
        "stop_words = stopwords.words('english')\n",
        "# function to remove stopwords\n",
        "def remove_stopwords(text):\n",
        "    textArr = text.split(' ')\n",
        "    rem_text = \" \".join([i for i in textArr if i not in stop_words])\n",
        "    return rem_text\n",
        "\n",
        "# remove stopwords from the text\n",
        "data['translation']= data['translation'].apply(remove_stopwords)"
      ],
      "execution_count": 8,
      "outputs": []
    },
    {
      "cell_type": "code",
      "metadata": {
        "id": "XPXWSq8Wjc2L"
      },
      "source": [
        "import en_core_web_sm\n",
        "nlp = en_core_web_sm.load()\n",
        "\n",
        "\n",
        "def lemmatization(texts,allowed_postags=['NOUN', 'ADJ']): \n",
        "       output = []\n",
        "       for sent in texts:\n",
        "             doc = nlp(sent) \n",
        "             output.append([token.lemma_ for token in doc if token.pos_ in allowed_postags ])\n",
        "       return output"
      ],
      "execution_count": 13,
      "outputs": []
    },
    {
      "cell_type": "code",
      "metadata": {
        "colab": {
          "base_uri": "https://localhost:8080/"
        },
        "id": "JjGHxlwUvazH",
        "outputId": "16baed2a-3a13-4e65-8454-7227d69b0792"
      },
      "source": [
        "text_list=data['translation'].tolist()\n",
        "print(text_list[1])\n",
        "tokenized = lemmatization(text_list)\n",
        "print(tokenized[1])"
      ],
      "execution_count": 15,
      "outputs": [
        {
          "output_type": "stream",
          "text": [
            "always climate change\n",
            "['climate', 'change']\n"
          ],
          "name": "stdout"
        }
      ]
    },
    {
      "cell_type": "code",
      "metadata": {
        "id": "J-X6mCI4vqXL"
      },
      "source": [
        "dictionary = corpora.Dictionary(tokenized)\n",
        "doc_term_matrix = [dictionary.doc2bow(rev) for rev in tokenized]\n",
        "\n"
      ],
      "execution_count": 16,
      "outputs": []
    },
    {
      "cell_type": "code",
      "metadata": {
        "id": "4vzunqYGvspA"
      },
      "source": [
        "# Creating the object for LDA model using gensim library\n",
        "LDA = gensim.models.ldamodel.LdaModel\n",
        "\n",
        "# Build LDA model\n",
        "lda_model = LDA(corpus=doc_term_matrix, id2word=dictionary, num_topics=13, random_state=100,\n",
        "                chunksize=1000, passes=50,iterations=100)\n",
        "\n"
      ],
      "execution_count": 27,
      "outputs": []
    },
    {
      "cell_type": "code",
      "metadata": {
        "colab": {
          "base_uri": "https://localhost:8080/"
        },
        "id": "nbwvXxMqvyTz",
        "outputId": "bcf6321a-611c-4856-8dcb-f419e93deecd"
      },
      "source": [
        "lda_model.print_topics()"
      ],
      "execution_count": 28,
      "outputs": [
        {
          "output_type": "execute_result",
          "data": {
            "text/plain": [
              "[(0,\n",
              "  '0.057*\"future\" + 0.054*\"long\" + 0.042*\"climate\" + 0.040*\"society\" + 0.037*\"term\" + 0.032*\"generation\" + 0.032*\"measure\" + 0.031*\"environmental\" + 0.028*\"scary\" + 0.023*\"possible\"'),\n",
              " (1,\n",
              "  '0.044*\"environment\" + 0.034*\"country\" + 0.026*\"money\" + 0.019*\"energy\" + 0.018*\"people\" + 0.016*\"much\" + 0.016*\"product\" + 0.016*\"wetter\" + 0.016*\"emission\" + 0.015*\"reason\"'),\n",
              " (2,\n",
              "  '0.211*\"change\" + 0.175*\"climate\" + 0.050*\"time\" + 0.035*\"natural\" + 0.028*\"emission\" + 0.019*\"poor\" + 0.018*\"earth\" + 0.018*\"people\" + 0.017*\"snow\" + 0.016*\"contamination\"'),\n",
              " (3,\n",
              "  '0.041*\"serious\" + 0.039*\"nature\" + 0.038*\"climate\" + 0.038*\"natural\" + 0.037*\"population\" + 0.032*\"little\" + 0.031*\"year\" + 0.030*\"cycle\" + 0.029*\"human\" + 0.026*\"change\"'),\n",
              " (4,\n",
              "  '0.060*\"part\" + 0.040*\"issue\" + 0.039*\"polar\" + 0.037*\"problem\" + 0.036*\"health\" + 0.035*\"large\" + 0.035*\"impact\" + 0.033*\"consequence\" + 0.029*\"welfare\" + 0.029*\"food\"'),\n",
              " (5,\n",
              "  '0.078*\"climate\" + 0.052*\"change\" + 0.039*\"pollution\" + 0.035*\"negative\" + 0.029*\"animal\" + 0.027*\"major\" + 0.022*\"difficult\" + 0.022*\"fuel\" + 0.021*\"fossil\" + 0.021*\"greenhouse\"'),\n",
              " (6,\n",
              "  '0.118*\"responsibility\" + 0.069*\"care\" + 0.058*\"planet\" + 0.033*\"threat\" + 0.031*\"severe\" + 0.027*\"everyone\" + 0.026*\"ozone\" + 0.025*\"soil\" + 0.024*\"research\" + 0.022*\"layer\"'),\n",
              " (7,\n",
              "  '0.283*\"weather\" + 0.162*\"extreme\" + 0.047*\"rain\" + 0.040*\"level\" + 0.036*\"temperature\" + 0.031*\"condition\" + 0.030*\"wind\" + 0.025*\"glacier\" + 0.024*\"storm\" + 0.019*\"strong\"'),\n",
              " (8,\n",
              "  '0.089*\"water\" + 0.060*\"level\" + 0.057*\"country\" + 0.044*\"emission\" + 0.043*\"pole\" + 0.032*\"less\" + 0.032*\"rise\" + 0.029*\"warm\" + 0.028*\"child\" + 0.023*\"kind\"'),\n",
              " (9,\n",
              "  '0.184*\"disaster\" + 0.110*\"natural\" + 0.055*\"storm\" + 0.050*\"growth\" + 0.030*\"flood\" + 0.025*\"people\" + 0.023*\"drought\" + 0.021*\"sustainable\" + 0.016*\"hurricane\" + 0.016*\"phenomenon\"'),\n",
              " (10,\n",
              "  '0.065*\"warm\" + 0.064*\"flood\" + 0.059*\"thing\" + 0.056*\"life\" + 0.055*\"winter\" + 0.041*\"summer\" + 0.034*\"many\" + 0.033*\"place\" + 0.032*\"fee\" + 0.023*\"truth\"'),\n",
              " (11,\n",
              "  '0.099*\"world\" + 0.079*\"climate\" + 0.059*\"change\" + 0.042*\"little\" + 0.037*\"people\" + 0.031*\"much\" + 0.030*\"great\" + 0.021*\"solar\" + 0.019*\"many\" + 0.018*\"important\"'),\n",
              " (12,\n",
              "  '0.108*\"global\" + 0.106*\"temperature\" + 0.062*\"warming\" + 0.058*\"melting\" + 0.056*\"high\" + 0.032*\"start\" + 0.027*\"fluctuation\" + 0.024*\"challenge\" + 0.022*\"condition\" + 0.021*\"today\"')]"
            ]
          },
          "metadata": {
            "tags": []
          },
          "execution_count": 28
        }
      ]
    },
    {
      "cell_type": "code",
      "metadata": {
        "id": "S4KAmyGAwGJK"
      },
      "source": [
        "def compute_coherence_values(dictionary, corpus, texts, limit, start=2, step=3):\n",
        "    \"\"\"\n",
        "    Compute c_v coherence for various number of topics\n",
        "\n",
        "    Parameters:\n",
        "    ----------\n",
        "    dictionary : Gensim dictionary\n",
        "    corpus : Gensim corpus\n",
        "    texts : List of input texts\n",
        "    limit : Max num of topics\n",
        "\n",
        "    Returns:\n",
        "    -------\n",
        "    model_list : List of LDA topic models\n",
        "    coherence_values : Coherence values corresponding to the LDA model with respective number of topics\n",
        "    \"\"\"\n",
        "    coherence_values = []\n",
        "    model_list = []\n",
        "    for num_topics in range(start, limit, step):\n",
        "        model = gensim.models.ldamodel.LdaModel(corpus=corpus, num_topics=num_topics, id2word=dictionary)\n",
        "        model_list.append(model)\n",
        "        coherencemodel = gensim.models.CoherenceModel(model=model, texts=texts, dictionary=dictionary, coherence='c_v')\n",
        "        coherence_values.append(coherencemodel.get_coherence())\n",
        "\n",
        "    return model_list, coherence_values"
      ],
      "execution_count": 24,
      "outputs": []
    },
    {
      "cell_type": "code",
      "metadata": {
        "id": "kXPR5GkkwG3X"
      },
      "source": [
        "model_list, coherence_values = compute_coherence_values(dictionary=dictionary, corpus=doc_term_matrix, texts=tokenized, start=2, limit=50, step=1)"
      ],
      "execution_count": 25,
      "outputs": []
    },
    {
      "cell_type": "code",
      "metadata": {
        "colab": {
          "base_uri": "https://localhost:8080/",
          "height": 279
        },
        "id": "DzIv3S-vwKZf",
        "outputId": "cce82274-b277-4e6f-eb4c-6b306ad23eef"
      },
      "source": [
        "# Show graph\n",
        "limit=50; start=2; step=1;\n",
        "x = range(start, limit, step)\n",
        "plt.plot(x, coherence_values)\n",
        "plt.xlabel(\"Num Topics\")\n",
        "plt.ylabel(\"Coherence score\")\n",
        "plt.legend((\"coherence_values\"), loc='best')\n",
        "plt.show()# Print the coherence scores"
      ],
      "execution_count": 26,
      "outputs": [
        {
          "output_type": "display_data",
          "data": {
            "image/png": "[encoded data removed]",
            "text/plain": [
              "<Figure size 432x288 with 1 Axes>"
            ]
          },
          "metadata": {
            "tags": [],
            "needs_background": "light"
          }
        }
      ]
    }
  ]
}