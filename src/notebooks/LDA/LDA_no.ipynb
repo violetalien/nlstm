{
  "nbformat": 4,
  "nbformat_minor": 0,
  "metadata": {
    "colab": {
      "name": "LDA_no.ipynb",
      "provenance": []
    },
    "kernelspec": {
      "name": "python3",
      "display_name": "Python 3"
    },
    "language_info": {
      "name": "python"
    }
  },
  "cells": [
    {
      "cell_type": "code",
      "metadata": {
        "id": "PouaQpxSfpZo"
      },
      "source": [
        "import pandas as pd\n",
        "import numpy as np\n",
        "\n",
        "import re\n",
        "import string\n",
        "\n",
        "import spacy\n",
        "\n",
        "import gensim\n",
        "from gensim import corpora\n",
        "\n",
        "# libraries for visualization\n",
        "#!pip install pyLDAvis\n",
        "#import pyLDAvis\n",
        "#import pyLDAvis.gensim_models\n",
        "import matplotlib.pyplot as plt\n",
        "import seaborn as sns\n",
        "%matplotlib inline"
      ],
      "execution_count": 1,
      "outputs": []
    },
    {
      "cell_type": "code",
      "metadata": {
        "colab": {
          "base_uri": "https://localhost:8080/",
          "height": 206
        },
        "id": "vwQ7NT0YgUFi",
        "outputId": "6c4bde40-f4c8-48b6-b004-d3882dfef226"
      },
      "source": [
        "data= pd.read_csv(\"no.csv\",  sep = \";\")\n",
        "data.head()\n"
      ],
      "execution_count": 10,
      "outputs": [
        {
          "output_type": "execute_result",
          "data": {
            "text/html": [
              "<div>\n",
              "<style scoped>\n",
              "    .dataframe tbody tr th:only-of-type {\n",
              "        vertical-align: middle;\n",
              "    }\n",
              "\n",
              "    .dataframe tbody tr th {\n",
              "        vertical-align: top;\n",
              "    }\n",
              "\n",
              "    .dataframe thead th {\n",
              "        text-align: right;\n",
              "    }\n",
              "</style>\n",
              "<table border=\"1\" class=\"dataframe\">\n",
              "  <thead>\n",
              "    <tr style=\"text-align: right;\">\n",
              "      <th></th>\n",
              "      <th>age</th>\n",
              "      <th>gender</th>\n",
              "      <th>humanmade</th>\n",
              "      <th>concern</th>\n",
              "      <th>efficacy</th>\n",
              "      <th>income</th>\n",
              "      <th>edu3</th>\n",
              "      <th>openanswer</th>\n",
              "      <th>translation</th>\n",
              "    </tr>\n",
              "  </thead>\n",
              "  <tbody>\n",
              "    <tr>\n",
              "      <th>0</th>\n",
              "      <td>5</td>\n",
              "      <td>2</td>\n",
              "      <td>1</td>\n",
              "      <td>1.00</td>\n",
              "      <td>0.333333</td>\n",
              "      <td>400000</td>\n",
              "      <td>3</td>\n",
              "      <td>Å være miljø vennlig</td>\n",
              "      <td>Being environmentally friendly</td>\n",
              "    </tr>\n",
              "    <tr>\n",
              "      <th>1</th>\n",
              "      <td>4</td>\n",
              "      <td>1</td>\n",
              "      <td>0</td>\n",
              "      <td>0.50</td>\n",
              "      <td>0.333333</td>\n",
              "      <td>600000</td>\n",
              "      <td>2</td>\n",
              "      <td>å så?har altid vært klimaendring</td>\n",
              "      <td>to sow? has always been climate change</td>\n",
              "    </tr>\n",
              "    <tr>\n",
              "      <th>2</th>\n",
              "      <td>4</td>\n",
              "      <td>1</td>\n",
              "      <td>1</td>\n",
              "      <td>0.75</td>\n",
              "      <td>0.333333</td>\n",
              "      <td>500000</td>\n",
              "      <td>3</td>\n",
              "      <td>Å stange hodet mot veggen</td>\n",
              "      <td>To bumping your head against the wall</td>\n",
              "    </tr>\n",
              "    <tr>\n",
              "      <th>3</th>\n",
              "      <td>4</td>\n",
              "      <td>2</td>\n",
              "      <td>1</td>\n",
              "      <td>1.00</td>\n",
              "      <td>0.333333</td>\n",
              "      <td>0</td>\n",
              "      <td>3</td>\n",
              "      <td>å nei ikke igjen - gjør noe med det - NÅ</td>\n",
              "      <td>oh no not again - do something about it - NOW</td>\n",
              "    </tr>\n",
              "    <tr>\n",
              "      <th>4</th>\n",
              "      <td>2</td>\n",
              "      <td>2</td>\n",
              "      <td>1</td>\n",
              "      <td>0.75</td>\n",
              "      <td>0.333333</td>\n",
              "      <td>0</td>\n",
              "      <td>2</td>\n",
              "      <td>Ønsker ikke at klima skal endres</td>\n",
              "      <td>Do not want that climate change will</td>\n",
              "    </tr>\n",
              "  </tbody>\n",
              "</table>\n",
              "</div>"
            ],
            "text/plain": [
              "   age  ...                                    translation\n",
              "0    5  ...                 Being environmentally friendly\n",
              "1    4  ...         to sow? has always been climate change\n",
              "2    4  ...          To bumping your head against the wall\n",
              "3    4  ...  oh no not again - do something about it - NOW\n",
              "4    2  ...           Do not want that climate change will\n",
              "\n",
              "[5 rows x 9 columns]"
            ]
          },
          "metadata": {
            "tags": []
          },
          "execution_count": 10
        }
      ]
    },
    {
      "cell_type": "code",
      "metadata": {
        "id": "5cQzkbcOio_H"
      },
      "source": [
        "def clean_text(text ): \n",
        "    delete_dict = {sp_character: '' for sp_character in string.punctuation} \n",
        "    delete_dict[' '] = ' ' \n",
        "    table = str.maketrans(delete_dict)\n",
        "    text1 = text.translate(table)\n",
        "    #print('cleaned:'+text1)\n",
        "    textArr= text1.split()\n",
        "    text2 = ' '.join([w for w in textArr if ( not w.isdigit() and  ( not w.isdigit() and len(w)>3))]) \n",
        "    \n",
        "    return text2.lower()"
      ],
      "execution_count": 11,
      "outputs": []
    },
    {
      "cell_type": "code",
      "metadata": {
        "colab": {
          "base_uri": "https://localhost:8080/"
        },
        "id": "smASVzsffxrH",
        "outputId": "9f51d82c-f874-4e37-dc1f-84ee1810147d"
      },
      "source": [
        "import nltk\n",
        "nltk.download('stopwords') # run this one time\n",
        "\n"
      ],
      "execution_count": 4,
      "outputs": [
        {
          "output_type": "stream",
          "text": [
            "[nltk_data] Downloading package stopwords to /root/nltk_data...\n",
            "[nltk_data]   Package stopwords is already up-to-date!\n"
          ],
          "name": "stdout"
        },
        {
          "output_type": "execute_result",
          "data": {
            "text/plain": [
              "True"
            ]
          },
          "metadata": {
            "tags": []
          },
          "execution_count": 4
        }
      ]
    },
    {
      "cell_type": "code",
      "metadata": {
        "colab": {
          "base_uri": "https://localhost:8080/",
          "height": 241
        },
        "id": "HOrscCIJiuly",
        "outputId": "58f08dbf-9489-4868-eee5-a1b8e428fc51"
      },
      "source": [
        "data.dropna(axis = 0, how ='any',inplace=True) \n",
        "\n",
        "\n",
        "\n",
        "\n",
        "\n",
        "\n",
        "data['openanswer'] = data['openanswer'].apply(clean_text)\n",
        "data['Num_words_text'] = data['openanswer'].apply(lambda x:len(str(x).split())) \n",
        "\n",
        "\n",
        "\n",
        "data.head()\n",
        "#all_sentences = train_data['text'].tolist() + test_data['text'].tolist()"
      ],
      "execution_count": 12,
      "outputs": [
        {
          "output_type": "execute_result",
          "data": {
            "text/html": [
              "<div>\n",
              "<style scoped>\n",
              "    .dataframe tbody tr th:only-of-type {\n",
              "        vertical-align: middle;\n",
              "    }\n",
              "\n",
              "    .dataframe tbody tr th {\n",
              "        vertical-align: top;\n",
              "    }\n",
              "\n",
              "    .dataframe thead th {\n",
              "        text-align: right;\n",
              "    }\n",
              "</style>\n",
              "<table border=\"1\" class=\"dataframe\">\n",
              "  <thead>\n",
              "    <tr style=\"text-align: right;\">\n",
              "      <th></th>\n",
              "      <th>age</th>\n",
              "      <th>gender</th>\n",
              "      <th>humanmade</th>\n",
              "      <th>concern</th>\n",
              "      <th>efficacy</th>\n",
              "      <th>income</th>\n",
              "      <th>edu3</th>\n",
              "      <th>openanswer</th>\n",
              "      <th>translation</th>\n",
              "      <th>Num_words_text</th>\n",
              "    </tr>\n",
              "  </thead>\n",
              "  <tbody>\n",
              "    <tr>\n",
              "      <th>0</th>\n",
              "      <td>5</td>\n",
              "      <td>2</td>\n",
              "      <td>1</td>\n",
              "      <td>1.00</td>\n",
              "      <td>0.333333</td>\n",
              "      <td>400000</td>\n",
              "      <td>3</td>\n",
              "      <td>være miljø vennlig</td>\n",
              "      <td>Being environmentally friendly</td>\n",
              "      <td>3</td>\n",
              "    </tr>\n",
              "    <tr>\n",
              "      <th>1</th>\n",
              "      <td>4</td>\n",
              "      <td>1</td>\n",
              "      <td>0</td>\n",
              "      <td>0.50</td>\n",
              "      <td>0.333333</td>\n",
              "      <td>600000</td>\n",
              "      <td>2</td>\n",
              "      <td>såhar altid vært klimaendring</td>\n",
              "      <td>to sow? has always been climate change</td>\n",
              "      <td>4</td>\n",
              "    </tr>\n",
              "    <tr>\n",
              "      <th>2</th>\n",
              "      <td>4</td>\n",
              "      <td>1</td>\n",
              "      <td>1</td>\n",
              "      <td>0.75</td>\n",
              "      <td>0.333333</td>\n",
              "      <td>500000</td>\n",
              "      <td>3</td>\n",
              "      <td>stange hodet veggen</td>\n",
              "      <td>To bumping your head against the wall</td>\n",
              "      <td>3</td>\n",
              "    </tr>\n",
              "    <tr>\n",
              "      <th>3</th>\n",
              "      <td>4</td>\n",
              "      <td>2</td>\n",
              "      <td>1</td>\n",
              "      <td>1.00</td>\n",
              "      <td>0.333333</td>\n",
              "      <td>0</td>\n",
              "      <td>3</td>\n",
              "      <td>ikke igjen gjør</td>\n",
              "      <td>oh no not again - do something about it - NOW</td>\n",
              "      <td>3</td>\n",
              "    </tr>\n",
              "    <tr>\n",
              "      <th>4</th>\n",
              "      <td>2</td>\n",
              "      <td>2</td>\n",
              "      <td>1</td>\n",
              "      <td>0.75</td>\n",
              "      <td>0.333333</td>\n",
              "      <td>0</td>\n",
              "      <td>2</td>\n",
              "      <td>ønsker ikke klima skal endres</td>\n",
              "      <td>Do not want that climate change will</td>\n",
              "      <td>5</td>\n",
              "    </tr>\n",
              "  </tbody>\n",
              "</table>\n",
              "</div>"
            ],
            "text/plain": [
              "   age  gender  ...                                    translation  Num_words_text\n",
              "0    5       2  ...                 Being environmentally friendly               3\n",
              "1    4       1  ...         to sow? has always been climate change               4\n",
              "2    4       1  ...          To bumping your head against the wall               3\n",
              "3    4       2  ...  oh no not again - do something about it - NOW               3\n",
              "4    2       2  ...           Do not want that climate change will               5\n",
              "\n",
              "[5 rows x 10 columns]"
            ]
          },
          "metadata": {
            "tags": []
          },
          "execution_count": 12
        }
      ]
    },
    {
      "cell_type": "code",
      "metadata": {
        "id": "ycj7ImAtjDMV"
      },
      "source": [
        "from nltk.corpus import stopwords\n",
        "stop_words = stopwords.words('norwegian')\n",
        "# function to remove stopwords\n",
        "def remove_stopwords(text):\n",
        "    textArr = text.split(' ')\n",
        "    rem_text = \" \".join([i for i in textArr if i not in stop_words])\n",
        "    return rem_text\n",
        "\n",
        "# remove stopwords from the text\n",
        "data['openanswer']=data['openanswer'].apply(remove_stopwords)"
      ],
      "execution_count": 13,
      "outputs": []
    },
    {
      "cell_type": "code",
      "metadata": {
        "colab": {
          "base_uri": "https://localhost:8080/"
        },
        "id": "XPXWSq8Wjc2L",
        "outputId": "aca1afaa-37d6-40e1-b1e5-a05a3d359572"
      },
      "source": [
        "#!python -m spacy download xx_sent_ud_sm\n",
        "!python -m spacy download nb_core_news_lg\n",
        "#!pip install -U spacy\n",
        "#!python -m spacy validate\n",
        "\n",
        "#nlp = spacy.load('xx_sent_ud_sm')\n",
        "nlp = spacy.load('nb_core_news_lg')\n",
        "\n",
        "\n",
        "def lemmatization(texts,allowed_postags=['NOUN', 'ADJ']): \n",
        "       output = []\n",
        "       for sent in texts:\n",
        "             doc = nlp(sent) \n",
        "             output.append([token.lemma_ for token in doc if token.pos_ in allowed_postags ])\n",
        "       return output"
      ],
      "execution_count": 17,
      "outputs": [
        {
          "output_type": "stream",
          "text": [
            "2021-07-07 11:23:34.606734: I tensorflow/stream_executor/platform/default/dso_loader.cc:53] Successfully opened dynamic library libcudart.so.11.0\n",
            "Collecting nb-core-news-lg==3.0.0\n",
            "\u001b[?25l  Downloading https://github.com/explosion/spacy-models/releases/download/nb_core_news_lg-3.0.0/nb_core_news_lg-3.0.0-py3-none-any.whl (574.0MB)\n",
            "\u001b[K     |████████████████████████████████| 574.0MB 17kB/s \n",
            "\u001b[?25hRequirement already satisfied: spacy<3.1.0,>=3.0.0 in /usr/local/lib/python3.7/dist-packages (from nb-core-news-lg==3.0.0) (3.0.6)\n",
            "Requirement already satisfied: catalogue<2.1.0,>=2.0.3 in /usr/local/lib/python3.7/dist-packages (from spacy<3.1.0,>=3.0.0->nb-core-news-lg==3.0.0) (2.0.4)\n",
            "Requirement already satisfied: requests<3.0.0,>=2.13.0 in /usr/local/lib/python3.7/dist-packages (from spacy<3.1.0,>=3.0.0->nb-core-news-lg==3.0.0) (2.23.0)\n",
            "Requirement already satisfied: pydantic<1.8.0,>=1.7.1 in /usr/local/lib/python3.7/dist-packages (from spacy<3.1.0,>=3.0.0->nb-core-news-lg==3.0.0) (1.7.4)\n",
            "Requirement already satisfied: spacy-legacy<3.1.0,>=3.0.4 in /usr/local/lib/python3.7/dist-packages (from spacy<3.1.0,>=3.0.0->nb-core-news-lg==3.0.0) (3.0.7)\n",
            "Requirement already satisfied: preshed<3.1.0,>=3.0.2 in /usr/local/lib/python3.7/dist-packages (from spacy<3.1.0,>=3.0.0->nb-core-news-lg==3.0.0) (3.0.5)\n",
            "Requirement already satisfied: wasabi<1.1.0,>=0.8.1 in /usr/local/lib/python3.7/dist-packages (from spacy<3.1.0,>=3.0.0->nb-core-news-lg==3.0.0) (0.8.2)\n",
            "Requirement already satisfied: pathy>=0.3.5 in /usr/local/lib/python3.7/dist-packages (from spacy<3.1.0,>=3.0.0->nb-core-news-lg==3.0.0) (0.6.0)\n",
            "Requirement already satisfied: srsly<3.0.0,>=2.4.1 in /usr/local/lib/python3.7/dist-packages (from spacy<3.1.0,>=3.0.0->nb-core-news-lg==3.0.0) (2.4.1)\n",
            "Requirement already satisfied: setuptools in /usr/local/lib/python3.7/dist-packages (from spacy<3.1.0,>=3.0.0->nb-core-news-lg==3.0.0) (57.0.0)\n",
            "Requirement already satisfied: tqdm<5.0.0,>=4.38.0 in /usr/local/lib/python3.7/dist-packages (from spacy<3.1.0,>=3.0.0->nb-core-news-lg==3.0.0) (4.41.1)\n",
            "Requirement already satisfied: typer<0.4.0,>=0.3.0 in /usr/local/lib/python3.7/dist-packages (from spacy<3.1.0,>=3.0.0->nb-core-news-lg==3.0.0) (0.3.2)\n",
            "Requirement already satisfied: thinc<8.1.0,>=8.0.3 in /usr/local/lib/python3.7/dist-packages (from spacy<3.1.0,>=3.0.0->nb-core-news-lg==3.0.0) (8.0.7)\n",
            "Requirement already satisfied: blis<0.8.0,>=0.4.0 in /usr/local/lib/python3.7/dist-packages (from spacy<3.1.0,>=3.0.0->nb-core-news-lg==3.0.0) (0.4.1)\n",
            "Requirement already satisfied: packaging>=20.0 in /usr/local/lib/python3.7/dist-packages (from spacy<3.1.0,>=3.0.0->nb-core-news-lg==3.0.0) (20.9)\n",
            "Requirement already satisfied: typing-extensions<4.0.0.0,>=3.7.4; python_version < \"3.8\" in /usr/local/lib/python3.7/dist-packages (from spacy<3.1.0,>=3.0.0->nb-core-news-lg==3.0.0) (3.7.4.3)\n",
            "Requirement already satisfied: murmurhash<1.1.0,>=0.28.0 in /usr/local/lib/python3.7/dist-packages (from spacy<3.1.0,>=3.0.0->nb-core-news-lg==3.0.0) (1.0.5)\n",
            "Requirement already satisfied: numpy>=1.15.0 in /usr/local/lib/python3.7/dist-packages (from spacy<3.1.0,>=3.0.0->nb-core-news-lg==3.0.0) (1.19.5)\n",
            "Requirement already satisfied: jinja2 in /usr/local/lib/python3.7/dist-packages (from spacy<3.1.0,>=3.0.0->nb-core-news-lg==3.0.0) (2.11.3)\n",
            "Requirement already satisfied: cymem<2.1.0,>=2.0.2 in /usr/local/lib/python3.7/dist-packages (from spacy<3.1.0,>=3.0.0->nb-core-news-lg==3.0.0) (2.0.5)\n",
            "Requirement already satisfied: zipp>=0.5; python_version < \"3.8\" in /usr/local/lib/python3.7/dist-packages (from catalogue<2.1.0,>=2.0.3->spacy<3.1.0,>=3.0.0->nb-core-news-lg==3.0.0) (3.4.1)\n",
            "Requirement already satisfied: certifi>=2017.4.17 in /usr/local/lib/python3.7/dist-packages (from requests<3.0.0,>=2.13.0->spacy<3.1.0,>=3.0.0->nb-core-news-lg==3.0.0) (2021.5.30)\n",
            "Requirement already satisfied: urllib3!=1.25.0,!=1.25.1,<1.26,>=1.21.1 in /usr/local/lib/python3.7/dist-packages (from requests<3.0.0,>=2.13.0->spacy<3.1.0,>=3.0.0->nb-core-news-lg==3.0.0) (1.24.3)\n",
            "Requirement already satisfied: chardet<4,>=3.0.2 in /usr/local/lib/python3.7/dist-packages (from requests<3.0.0,>=2.13.0->spacy<3.1.0,>=3.0.0->nb-core-news-lg==3.0.0) (3.0.4)\n",
            "Requirement already satisfied: idna<3,>=2.5 in /usr/local/lib/python3.7/dist-packages (from requests<3.0.0,>=2.13.0->spacy<3.1.0,>=3.0.0->nb-core-news-lg==3.0.0) (2.10)\n",
            "Requirement already satisfied: smart-open<6.0.0,>=5.0.0 in /usr/local/lib/python3.7/dist-packages (from pathy>=0.3.5->spacy<3.1.0,>=3.0.0->nb-core-news-lg==3.0.0) (5.1.0)\n",
            "Requirement already satisfied: click<7.2.0,>=7.1.1 in /usr/local/lib/python3.7/dist-packages (from typer<0.4.0,>=0.3.0->spacy<3.1.0,>=3.0.0->nb-core-news-lg==3.0.0) (7.1.2)\n",
            "Requirement already satisfied: pyparsing>=2.0.2 in /usr/local/lib/python3.7/dist-packages (from packaging>=20.0->spacy<3.1.0,>=3.0.0->nb-core-news-lg==3.0.0) (2.4.7)\n",
            "Requirement already satisfied: MarkupSafe>=0.23 in /usr/local/lib/python3.7/dist-packages (from jinja2->spacy<3.1.0,>=3.0.0->nb-core-news-lg==3.0.0) (2.0.1)\n",
            "Installing collected packages: nb-core-news-lg\n",
            "Successfully installed nb-core-news-lg-3.0.0\n",
            "\u001b[38;5;2m✔ Download and installation successful\u001b[0m\n",
            "You can now load the package via spacy.load('nb_core_news_lg')\n"
          ],
          "name": "stdout"
        }
      ]
    },
    {
      "cell_type": "code",
      "metadata": {
        "colab": {
          "base_uri": "https://localhost:8080/"
        },
        "id": "K9gyQSWu6CPM",
        "outputId": "dd932536-3108-41bf-f63e-8033f76ef9d9"
      },
      "source": [
        "text_list=data['openanswer'].tolist()\n",
        "print(text_list[1])\n",
        "tokenized = lemmatization(text_list)\n",
        "print(tokenized[1])\n",
        "\n"
      ],
      "execution_count": 18,
      "outputs": [
        {
          "output_type": "stream",
          "text": [
            "såhar altid klimaendring\n",
            "['altid', 'klimaendring']\n"
          ],
          "name": "stdout"
        }
      ]
    },
    {
      "cell_type": "code",
      "metadata": {
        "id": "7E7oCUQY6jGv"
      },
      "source": [
        "dictionary = corpora.Dictionary(tokenized)\n",
        "doc_term_matrix = [dictionary.doc2bow(rev) for rev in tokenized]"
      ],
      "execution_count": 19,
      "outputs": []
    },
    {
      "cell_type": "code",
      "metadata": {
        "id": "xSlXejKO6kS5"
      },
      "source": [
        "# Creating the object for LDA model using gensim library\n",
        "LDA = gensim.models.ldamodel.LdaModel\n",
        "\n",
        "# Build LDA model\n",
        "lda_model = LDA(corpus=doc_term_matrix, id2word=dictionary, num_topics=13, random_state=100,\n",
        "                chunksize=1000, passes=50,iterations=100)"
      ],
      "execution_count": 20,
      "outputs": []
    },
    {
      "cell_type": "code",
      "metadata": {
        "colab": {
          "base_uri": "https://localhost:8080/"
        },
        "id": "_IA1h_rH9zBh",
        "outputId": "5a57ccb5-74bb-48de-ded0-cb99cec7ffdd"
      },
      "source": [
        "\n",
        "\n",
        "lda_model.print_topics()\n",
        "\n"
      ],
      "execution_count": 21,
      "outputs": [
        {
          "output_type": "execute_result",
          "data": {
            "text/plain": [
              "[(0,\n",
              "  '0.055*\"katastrofe\" + 0.050*\"små\" + 0.043*\"ting\" + 0.041*\"høy\" + 0.036*\"klimaendring\" + 0.028*\"luft\" + 0.026*\"viktig\" + 0.024*\"mye\" + 0.022*\"egentlig\" + 0.020*\"første\"'),\n",
              " (1,\n",
              "  '0.089*\"klimaendring\" + 0.085*\"verden\" + 0.062*\"utslipp\" + 0.049*\"menneskeskapt\" + 0.023*\"land\" + 0.021*\"endring\" + 0.020*\"konsekvens\" + 0.019*\"menneske\" + 0.016*\"liten\" + 0.016*\"naturlig\"'),\n",
              " (2,\n",
              "  '0.042*\"forurensing\" + 0.041*\"rest\" + 0.037*\"kine\" + 0.034*\"vær\" + 0.030*\"smelting\" + 0.028*\"planet\" + 0.027*\"svær\" + 0.024*\"verden\" + 0.024*\"problem\" + 0.022*\"lenger\"'),\n",
              " (3,\n",
              "  '0.084*\"global\" + 0.059*\"uvær\" + 0.057*\"hav\" + 0.052*\"oppvarming\" + 0.050*\"flom\" + 0.047*\"temperatur\" + 0.041*\"storm\" + 0.038*\"land\" + 0.023*\"norge\" + 0.017*\"naturkatastrofe\"'),\n",
              " (4,\n",
              "  '0.042*\"naturlig\" + 0.041*\"syklus\" + 0.038*\"natur\" + 0.037*\"alvorlig\" + 0.036*\"avskoging\" + 0.028*\"skremme\" + 0.028*\"lav\" + 0.028*\"fare\" + 0.026*\"fremtid\" + 0.024*\"stor\"'),\n",
              " (5,\n",
              "  '0.058*\"god\" + 0.041*\"dårlig\" + 0.026*\"vond\" + 0.026*\"miljø\" + 0.023*\"økning\" + 0.022*\"ustabil\" + 0.021*\"faktisk\" + 0.020*\"viktig\" + 0.019*\"enorm\" + 0.019*\"vinter\"'),\n",
              " (6,\n",
              "  '0.144*\"ekstremvær\" + 0.050*\"naturkatastrofe\" + 0.029*\"vanskelig\" + 0.022*\"alvor\" + 0.021*\"endring\" + 0.020*\"nedbør\" + 0.020*\"katastrofal\" + 0.020*\"trussel\" + 0.017*\"alvorlig\" + 0.013*\"natur\"'),\n",
              " (7,\n",
              "  '0.076*\"ansvar\" + 0.051*\"pole\" + 0.050*\"is\" + 0.041*\"varm\" + 0.039*\"regn\" + 0.031*\"vannstand\" + 0.030*\"størst\" + 0.026*\"vann\" + 0.024*\"isbre\" + 0.022*\"vind\"'),\n",
              " (8,\n",
              "  '0.048*\"jorde\" + 0.034*\"litt\" + 0.027*\"befolkningsvekst\" + 0.024*\"variasjon\" + 0.019*\"fossil\" + 0.018*\"menneske\" + 0.018*\"brensel\" + 0.017*\"tema\" + 0.016*\"bærekraftig\" + 0.015*\"natur\"'),\n",
              " (9,\n",
              "  '0.101*\"klima\" + 0.064*\"varm\" + 0.042*\"endring\" + 0.028*\"tid\" + 0.025*\"klode\" + 0.025*\"stor\" + 0.019*\"folk\" + 0.019*\"naturlig\" + 0.019*\"våt\" + 0.018*\"sted\"'),\n",
              " (10,\n",
              "  '0.051*\"havnivå\" + 0.048*\"stor\" + 0.046*\"klima\" + 0.039*\"lite\" + 0.032*\"negativ\" + 0.029*\"grad\" + 0.028*\"land\" + 0.025*\"utfordring\" + 0.024*\"forhold\" + 0.024*\"endring\"'),\n",
              " (11,\n",
              "  '0.076*\"issmelting\" + 0.057*\"isbjørn\" + 0.043*\"avgift\" + 0.031*\"forurensning\" + 0.025*\"afrike\" + 0.024*\"vill\" + 0.022*\"is\" + 0.018*\"fore\" + 0.018*\"mulighet\" + 0.017*\"stig\"'),\n",
              " (12,\n",
              "  '0.029*\"barn\" + 0.026*\"hel\" + 0.025*\"skyld\" + 0.021*\"barnebarn\" + 0.020*\"olje\" + 0.015*\"landbruk\" + 0.014*\"naturleg\" + 0.014*\"alternativ\" + 0.014*\"bekymring\" + 0.010*\"aktivitet\"')]"
            ]
          },
          "metadata": {
            "tags": []
          },
          "execution_count": 21
        }
      ]
    },
    {
      "cell_type": "markdown",
      "metadata": {
        "id": "s1QV9QFLACSe"
      },
      "source": [
        "[(0,\n",
        "  '0.055 * \"disaster\" + 0.050 * \"small\" + 0.043 * \"things\" + 0.041 * \"high\" + 0.036 * \"climate change\" + 0.028 * \"air\" + 0.026 * \"important\" + 0.024 * \"a lot\" + 0.022 * \"actually\" + 0.020 * \"first\" '),\n",
        " (1,\n",
        "  '0.089 * \"climate change\" + 0.085 * \"world\" + 0.062 * \"emissions\" + 0.049 * \"man-made\" + 0.023 * \"land\" + 0.021 * \"change\" + 0.020 * \"consequence\" + 0.019 * \"human\" + 0.016 * \"small\" + 0.016 * \"natural\" '),\n",
        " (2,\n",
        "  '0.042 * \"pollution\" + 0.041 * \"rest\" + 0.037 * \"kine\" + 0.034 * \"weather\" + 0.030 * \"melting\" + 0.028 * \"planet\" + 0.027 * \"severe\" + 0.024 * \"world\" + 0.024 * \"problem\" + 0.022 * \"longer\" '),\n",
        " (3,\n",
        "  '0.084 * \"global\" + 0.059 * \"storm\" + 0.057 * \"ocean\" + 0.052 * \"warming\" + 0.050 * \"flood\" + 0.047 * \"temperature\" + 0.041 * \"storm\" + 0.038 * \"land\" + 0.023 * \"norway\" + 0.017 * \"natural disaster\" '),\n",
        " (4,\n",
        "  '0.042 * \"natural\" + 0.041 * \"cycle\" + 0.038 * \"natural\" + 0.037 * \"severe\" + 0.036 * \"deforestation\" + 0.028 * \"scare\" + 0.028 * \"low\" + 0.028 * \"danger\" + 0.026 * \"future\" + 0.024 * \"big\" '),\n",
        " (5,\n",
        "  '0.058 * \"good\" + 0.041 * \"bad\" + 0.026 * \"bad\" + 0.026 * \"environment\" + 0.023 * \"increase\" + 0.022 * \"unstable\" + 0.021 * \"actual\" + 0.020 * \"important\" + 0.019 * \"huge\" + 0.019 * \"winter\" '),\n",
        " (6,\n",
        "  '0.144 * \"extreme weather\" + 0.050 * \"natural disaster\" + 0.029 * \"difficult\" + 0.022 * \"severe\" + 0.021 * \"change\" + 0.020 * \"precipitation\" + 0.020 * \"catastrophic\" + 0.020 * \"threat\" + 0.017 * \"severe\" + 0.013 * \"nature\" '),\n",
        " (7,\n",
        "  '0.076 * \"responsibility\" + 0.051 * \"pole\" + 0.050 * \"is\" + 0.041 * \"warm\" + 0.039 * \"rain\" + 0.031 * \"water level\" + 0.030 * \"greatest\" + 0.026 * \"water\" + 0.024 * \"isbre\" + 0.022 * \"find\" '),\n",
        " (8,\n",
        "  '0.048 * \"earth\" + 0.034 * \"slightly\" + 0.027 * \"population growth\" + 0.024 * \"variation\" + 0.019 * \"fossil\" + 0.018 * \"human\" + 0.018 * \"fuel\" + 0.017 * \"theme\" + 0.016 * \"sustainable\" + 0.015 * \"nature\" '),\n",
        " (9,\n",
        "  '0.101 * \"climate\" + 0.064 * \"warm\" + 0.042 * \"change\" + 0.028 * \"time\" + 0.025 * \"globe\" + 0.025 * \"big\" + 0.019 * \"people\" + 0.019 * \"natural\" + 0.019 * \"wet\" + 0.018 * \"place\" '),\n",
        " (10,\n",
        "  '0.051 * \"sea level\" + 0.048 * \"large\" + 0.046 * \"climate\" + 0.039 * \"small\" + 0.032 * \"negative\" + 0.029 * \"degree\" + 0.028 * \"land\" + 0.025 * \"challenge\" + 0.024 * \"ratio\" + 0.024 * \"change\" '),\n",
        " (11,\n",
        "  '0.076 * \"melting ice\" + 0.057 * \"polar bear\" + 0.043 * \"tax\" + 0.031 * \"pollution\" + 0.025 * \"africa\" ​​+ 0.024 * \"wild\" + 0.022 * \"ice\" + 0.018 * \"fore\" + 0.018 * \"opportunity\" + 0.017 * \"rise\" '),\n",
        " (12,\n",
        "  '0.029 * \"children\" + 0.026 * \"whole\" + 0.025 * \"guilt\" + 0.021 * \"grandchildren\" + 0.020 * \"oil\" + 0.015 * \"agriculture\" + 0.014 * \"natural\" + 0.014 * \"alternative\" + 0.014 * \"concern\" + 0.010 * \"activity\" ')] "
      ]
    },
    {
      "cell_type": "code",
      "metadata": {
        "id": "NloNNuvI91NZ"
      },
      "source": [
        "def compute_coherence_values(dictionary, corpus, texts, limit, start=2, step=3):\n",
        "    \"\"\"\n",
        "    Compute c_v coherence for various number of topics\n",
        "\n",
        "    Parameters:\n",
        "    ----------\n",
        "    dictionary : Gensim dictionary\n",
        "    corpus : Gensim corpus\n",
        "    texts : List of input texts\n",
        "    limit : Max num of topics\n",
        "\n",
        "    Returns:\n",
        "    -------\n",
        "    model_list : List of LDA topic models\n",
        "    coherence_values : Coherence values corresponding to the LDA model with respective number of topics\n",
        "    \"\"\"\n",
        "    coherence_values = []\n",
        "    model_list = []\n",
        "    for num_topics in range(start, limit, step):\n",
        "        model = gensim.models.ldamodel.LdaModel(corpus=corpus, num_topics=num_topics, id2word=dictionary)\n",
        "        model_list.append(model)\n",
        "        coherencemodel = gensim.models.CoherenceModel(model=model, texts=texts, dictionary=dictionary, coherence='c_v')\n",
        "        coherence_values.append(coherencemodel.get_coherence())\n",
        "\n",
        "    return model_list, coherence_values"
      ],
      "execution_count": 22,
      "outputs": []
    },
    {
      "cell_type": "code",
      "metadata": {
        "id": "DreN_yHI93J7"
      },
      "source": [
        "model_list, coherence_values = compute_coherence_values(dictionary=dictionary, corpus=doc_term_matrix, texts=tokenized, start=2, limit=50, step=1)"
      ],
      "execution_count": 23,
      "outputs": []
    },
    {
      "cell_type": "code",
      "metadata": {
        "colab": {
          "base_uri": "https://localhost:8080/",
          "height": 279
        },
        "id": "1oiF8JDP94u0",
        "outputId": "f27b5e90-11d7-4a60-ea7f-e16a1fa5d1f2"
      },
      "source": [
        "# Show graph\n",
        "limit=50; start=2; step=1;\n",
        "x = range(start, limit, step)\n",
        "plt.plot(x, coherence_values)\n",
        "plt.xlabel(\"Num Topics\")\n",
        "plt.ylabel(\"Coherence score\")\n",
        "plt.legend((\"coherence_values\"), loc='best')\n",
        "plt.show()# Print the coherence scores\n",
        "\n"
      ],
      "execution_count": 24,
      "outputs": [
        {
          "output_type": "display_data",
          "data": {
            "image/png": "[encoded data removed]",
            "text/plain": [
              "<Figure size 432x288 with 1 Axes>"
            ]
          },
          "metadata": {
            "tags": [],
            "needs_background": "light"
          }
        }
      ]
    }
  ]
}