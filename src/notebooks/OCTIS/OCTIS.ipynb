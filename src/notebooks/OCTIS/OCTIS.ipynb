{
 "cells": [
  {
   "cell_type": "markdown",
   "metadata": {},
   "source": [
    "# OCTIS notebook\n",
    "\n",
    "Currently the evalutation is possible only for English. For example fot CTM they use pretrained models as in https://www.sbert.net/docs/pretrained_models.html, but there are no Norwegian or Icelandic"
   ]
  },
  {
   "cell_type": "code",
   "execution_count": 25,
   "metadata": {},
   "outputs": [],
   "source": [
    "from octis.dataset.dataset import Dataset\n",
    "from octis.models.LDA import LDA\n",
    "from octis.models.CTM import CTM\n",
    "\n",
    "from octis.evaluation_metrics.diversity_metrics import TopicDiversity, KLDivergence\n",
    "from octis.evaluation_metrics.coherence_metrics import Coherence"
   ]
  },
  {
   "cell_type": "code",
   "execution_count": 2,
   "metadata": {
    "colab": {
     "base_uri": "https://localhost:8080/",
     "height": 206
    },
    "id": "vwQ7NT0YgUFi",
    "outputId": "97997965-d850-4c21-b367-a5a91fabae94"
   },
   "outputs": [],
   "source": [
    "path_to_repo = \"/home/user/cogsys/ss2021/texmining/project/repo/\"\n"
   ]
  },
  {
   "cell_type": "code",
   "execution_count": 3,
   "metadata": {
    "id": "PouaQpxSfpZo"
   },
   "outputs": [],
   "source": [
    "dataset = Dataset()"
   ]
  },
  {
   "cell_type": "code",
   "execution_count": 4,
   "metadata": {
    "id": "5cQzkbcOio_H"
   },
   "outputs": [],
   "source": [
    "dataset.load_custom_dataset_from_folder(path_to_repo + \"nlstm/data/OCTIS\")"
   ]
  },
  {
   "cell_type": "markdown",
   "metadata": {},
   "source": [
    "# Preprocessing\n",
    "\n",
    "It is already done once"
   ]
  },
  {
   "cell_type": "code",
   "execution_count": 5,
   "metadata": {},
   "outputs": [],
   "source": [
    "# import csv"
   ]
  },
  {
   "cell_type": "code",
   "execution_count": 17,
   "metadata": {},
   "outputs": [],
   "source": [
    "# corpus_file = path_to_repo + 'nlstm/data/OCTIS/corpus.tsv'\n",
    "# corpus_txt_file = path_to_repo + 'nlstm/data/OCTIS/corpus.txt'\n",
    "# labels_txt_file = path_to_repo + 'nlstm/data/OCTIS/labels.txt'\n",
    "# corpus_list = []\n",
    "# labels_list = []\n",
    "# with open(corpus_file,'r') as file:\n",
    "#     tsv_file = csv.reader(file, delimiter=\"\\t\")\n",
    "#     for line in tsv_file:\n",
    "#         corpus_list.append(line[0])\n",
    "#         labels_list.append(line[1])\n",
    "        \n"
   ]
  },
  {
   "cell_type": "code",
   "execution_count": 7,
   "metadata": {},
   "outputs": [],
   "source": [
    "# with open(corpus_txt_file,'w') as file:\n",
    "#     file.write('\\n'.join(corpus_list))\n",
    "# with open(labels_txt_file,'w') as file:\n",
    "#     file.write('\\n'.join(labels_list))"
   ]
  },
  {
   "cell_type": "code",
   "execution_count": 8,
   "metadata": {},
   "outputs": [],
   "source": [
    "# !python -m spacy download en_core_web_sm"
   ]
  },
  {
   "cell_type": "code",
   "execution_count": 9,
   "metadata": {},
   "outputs": [],
   "source": [
    "# import os\n",
    "# import string\n",
    "# from octis.preprocessing.preprocessing import Preprocessing\n",
    "# os.chdir(os.path.pardir)\n",
    "\n",
    "# # Initialize preprocessing\n",
    "# preprocessor = Preprocessing(vocabulary=None, max_features=None,\n",
    "#                              remove_punctuation=True, punctuation=string.punctuation,\n",
    "#                              lemmatize=True, stopword_list='english',\n",
    "#                              min_chars=1, min_words_docs=0)\n",
    "# # preprocess\n",
    "# dataset = preprocessor.preprocess_dataset(documents_path=corpus_txt_file, labels_path=labels_txt_file)\n",
    "# path_to_dataset = path_to_repo + 'nlstm/data/OCTIS/'\n",
    "# # save the preprocessed dataset\n",
    "# dataset.save(path_to_dataset)"
   ]
  },
  {
   "cell_type": "markdown",
   "metadata": {},
   "source": [
    "# LDA"
   ]
  },
  {
   "cell_type": "code",
   "execution_count": 10,
   "metadata": {
    "colab": {
     "base_uri": "https://localhost:8080/"
    },
    "id": "smASVzsffxrH",
    "outputId": "0fda6e60-aea5-48a0-8bca-e527c2746197"
   },
   "outputs": [],
   "source": [
    "model_lda = LDA(num_topics=4)  # Create model\n",
    "model_lda_output = model_lda.train_model(dataset) # Train the model\n"
   ]
  },
  {
   "cell_type": "code",
   "execution_count": 11,
   "metadata": {},
   "outputs": [
    {
     "data": {
      "text/plain": [
       "{'topic-word-matrix': array([[5.51759079e-03, 1.50744221e-04, 6.36197673e-03, ...,\n",
       "         1.42893739e-04, 1.42893739e-04, 1.42893739e-04],\n",
       "        [1.37169030e-04, 1.14591334e-04, 4.18248586e-03, ...,\n",
       "         8.34506718e-05, 8.34506718e-05, 8.34506718e-05],\n",
       "        [2.19272668e-04, 1.38411671e-03, 3.02498024e-02, ...,\n",
       "         1.10469628e-04, 1.10469628e-04, 1.10469628e-04],\n",
       "        [1.21896947e-03, 1.30065484e-04, 3.92947812e-03, ...,\n",
       "         1.25282531e-04, 1.25282531e-04, 1.25282531e-04]], dtype=float32),\n",
       " 'topics': [['change',\n",
       "   'climate',\n",
       "   'flood',\n",
       "   'earth',\n",
       "   'warm',\n",
       "   'ice',\n",
       "   'melt',\n",
       "   'water',\n",
       "   'people',\n",
       "   'weather'],\n",
       "  ['change',\n",
       "   'climate',\n",
       "   'weather',\n",
       "   'warm',\n",
       "   'think',\n",
       "   'temperature',\n",
       "   'rain',\n",
       "   'global',\n",
       "   'melt',\n",
       "   'world'],\n",
       "  ['melt',\n",
       "   'natural',\n",
       "   'extreme',\n",
       "   'climate',\n",
       "   'weather',\n",
       "   'ice',\n",
       "   'change',\n",
       "   'storm',\n",
       "   'water',\n",
       "   'level'],\n",
       "  ['weather',\n",
       "   'climate',\n",
       "   'change',\n",
       "   'extreme',\n",
       "   'think',\n",
       "   'warm',\n",
       "   'bad',\n",
       "   'winter',\n",
       "   'great',\n",
       "   'human']],\n",
       " 'topic-document-matrix': array([[0.62298024, 0.05060489, 0.05478618, ..., 0.80128616, 0.08579857,\n",
       "         0.08372941],\n",
       "        [0.12505162, 0.05114788, 0.05435145, ..., 0.06546666, 0.0856456 ,\n",
       "         0.08378968],\n",
       "        [0.12510982, 0.84710306, 0.8372454 , ..., 0.067621  , 0.7444427 ,\n",
       "         0.08409156],\n",
       "        [0.12685832, 0.05114418, 0.05361698, ..., 0.06562615, 0.08411312,\n",
       "         0.74838936]]),\n",
       " 'test-topic-document-matrix': array([[0.74293309, 0.12824938, 0.08582985, ..., 0.42271873, 0.08484124,\n",
       "         0.624515  ],\n",
       "        [0.08554823, 0.12921956, 0.0856576 , ..., 0.03835285, 0.09211386,\n",
       "         0.12513296],\n",
       "        [0.0864929 , 0.61591429, 0.74439889, ..., 0.0371194 , 0.396613  ,\n",
       "         0.12516667],\n",
       "        [0.08502576, 0.12661675, 0.0841137 , ..., 0.50180906, 0.42643189,\n",
       "         0.12518539]])}"
      ]
     },
     "execution_count": 11,
     "metadata": {},
     "output_type": "execute_result"
    }
   ],
   "source": [
    "model_lda_output"
   ]
  },
  {
   "cell_type": "markdown",
   "metadata": {},
   "source": [
    "# CTM"
   ]
  },
  {
   "cell_type": "code",
   "execution_count": 40,
   "metadata": {},
   "outputs": [],
   "source": [
    "model_ctm = CTM(num_topics=4)  # Create model\n",
    "model_ctm_output = model_ctm.train_model(dataset) # Train the model\n"
   ]
  },
  {
   "cell_type": "code",
   "execution_count": 41,
   "metadata": {},
   "outputs": [
    {
     "data": {
      "text/plain": [
       "{'topics': [['weather',\n",
       "   'rise',\n",
       "   'extreme',\n",
       "   'rain',\n",
       "   'unstable',\n",
       "   'flood',\n",
       "   'sea',\n",
       "   'temperature',\n",
       "   'wind',\n",
       "   'rainfall'],\n",
       "  ['climate',\n",
       "   'change',\n",
       "   'think',\n",
       "   'ice',\n",
       "   'earth',\n",
       "   'affect',\n",
       "   'people',\n",
       "   'world',\n",
       "   'natural',\n",
       "   'melt'],\n",
       "  ['substantial',\n",
       "   'researcher',\n",
       "   'opposite',\n",
       "   'persist',\n",
       "   'enjoyment',\n",
       "   'derive',\n",
       "   'ballot',\n",
       "   'efficient',\n",
       "   'context',\n",
       "   'crustal'],\n",
       "  ['researcher',\n",
       "   'enjoyment',\n",
       "   'opposite',\n",
       "   'substantial',\n",
       "   'ballot',\n",
       "   'efficient',\n",
       "   'persist',\n",
       "   'derive',\n",
       "   'crustal',\n",
       "   'context']],\n",
       " 'topic-document-matrix': array([[0.04461866, 0.15429955, 0.28216779, ..., 0.03185457, 0.13437894,\n",
       "         0.08484113],\n",
       "        [0.11963093, 0.25667531, 0.37472691, ..., 0.02381708, 0.37508923,\n",
       "         0.05652173],\n",
       "        [0.11697181, 0.30597445, 0.15529526, ..., 0.90149034, 0.40466132,\n",
       "         0.72694946],\n",
       "        [0.71877858, 0.28305068, 0.18781004, ..., 0.042838  , 0.08587047,\n",
       "         0.13168768]]),\n",
       " 'topic-word-matrix': array([[ 0.00123595, -0.09786873, -0.05016325, ...,  0.0228955 ,\n",
       "         -0.02508841, -0.01666909],\n",
       "        [-0.08225718,  0.00305363, -0.04402769, ..., -0.12162638,\n",
       "         -0.21133041, -0.06554106],\n",
       "        [ 0.11527535,  0.10339744,  0.13071819, ...,  0.10175763,\n",
       "          0.24712439,  0.08481026],\n",
       "        [ 0.11924057,  0.01200285, -0.1368302 , ...,  0.15299602,\n",
       "          0.34282535,  0.10653748]], dtype=float32),\n",
       " 'test-topic-document-matrix': array([[0.15547111, 0.14298792, 0.16133508, ..., 0.40919679, 0.14528737,\n",
       "         0.07091333],\n",
       "        [0.05645913, 0.05218364, 0.39754615, ..., 0.25510788, 0.2115295 ,\n",
       "         0.04128162],\n",
       "        [0.19517068, 0.5326372 , 0.17476908, ..., 0.1951547 , 0.21553074,\n",
       "         0.10758497],\n",
       "        [0.59289909, 0.27219126, 0.26634969, ..., 0.14054065, 0.42765239,\n",
       "         0.78022007]])}"
      ]
     },
     "execution_count": 41,
     "metadata": {},
     "output_type": "execute_result"
    }
   ],
   "source": [
    "model_ctm_output"
   ]
  },
  {
   "cell_type": "markdown",
   "metadata": {
    "colab": {
     "base_uri": "https://localhost:8080/",
     "height": 206
    },
    "id": "HOrscCIJiuly",
    "outputId": "915653d7-54ab-4206-f795-c6d63d9056b9"
   },
   "source": [
    "# Evaluation"
   ]
  },
  {
   "cell_type": "code",
   "execution_count": 42,
   "metadata": {},
   "outputs": [],
   "source": [
    "# Preparing for NPMI metric"
   ]
  },
  {
   "cell_type": "code",
   "execution_count": 43,
   "metadata": {},
   "outputs": [],
   "source": [
    "import csv\n",
    "corpus_file = path_to_repo + 'nlstm/data/OCTIS/corpus.tsv'\n",
    "corpus_double_list = []\n",
    "with open(corpus_file,'r') as file:\n",
    "    tsv_file = csv.reader(file, delimiter=\"\\t\")\n",
    "    for line in tsv_file:\n",
    "        corpus_double_list.append(line[0].split(\" \"))\n"
   ]
  },
  {
   "cell_type": "markdown",
   "metadata": {},
   "source": [
    "## LDA"
   ]
  },
  {
   "cell_type": "code",
   "execution_count": 44,
   "metadata": {
    "id": "ycj7ImAtjDMV"
   },
   "outputs": [],
   "source": [
    "lda_div = TopicDiversity(topk=10) # Initialize metric\n",
    "lda_topic_diversity_score = lda_div.score(model_lda_output) # Compute score of the metric"
   ]
  },
  {
   "cell_type": "code",
   "execution_count": 45,
   "metadata": {
    "id": "XPXWSq8Wjc2L"
   },
   "outputs": [
    {
     "data": {
      "text/plain": [
       "0.575"
      ]
     },
     "execution_count": 45,
     "metadata": {},
     "output_type": "execute_result"
    }
   ],
   "source": [
    "lda_topic_diversity_score"
   ]
  },
  {
   "cell_type": "code",
   "execution_count": 46,
   "metadata": {
    "colab": {
     "base_uri": "https://localhost:8080/"
    },
    "id": "JjGHxlwUvazH",
    "outputId": "16baed2a-3a13-4e65-8454-7227d69b0792"
   },
   "outputs": [],
   "source": [
    "lda_kld = KLDivergence() # Initialize metric\n",
    "lda_kld_score = lda_kld.score(model_lda_output) # Compute score of the metric"
   ]
  },
  {
   "cell_type": "code",
   "execution_count": 47,
   "metadata": {
    "id": "J-X6mCI4vqXL"
   },
   "outputs": [
    {
     "data": {
      "text/plain": [
       "0.7999085773400448"
      ]
     },
     "execution_count": 47,
     "metadata": {},
     "output_type": "execute_result"
    }
   ],
   "source": [
    "lda_kld_score"
   ]
  },
  {
   "cell_type": "code",
   "execution_count": 48,
   "metadata": {},
   "outputs": [],
   "source": [
    "lda_npmi = Coherence(corpus_double_list)\n",
    "lda_npmi_score = lda_npmi.score(model_lda_output) # Compute score of the metric"
   ]
  },
  {
   "cell_type": "code",
   "execution_count": 49,
   "metadata": {},
   "outputs": [
    {
     "data": {
      "text/plain": [
       "-0.03606725615502218"
      ]
     },
     "execution_count": 49,
     "metadata": {},
     "output_type": "execute_result"
    }
   ],
   "source": [
    "lda_npmi_score"
   ]
  },
  {
   "cell_type": "markdown",
   "metadata": {},
   "source": [
    "## CTM"
   ]
  },
  {
   "cell_type": "code",
   "execution_count": 50,
   "metadata": {
    "id": "4vzunqYGvspA"
   },
   "outputs": [],
   "source": [
    "ctm_div = TopicDiversity(topk=10) # Initialize metric\n",
    "ctm_topic_diversity_score = ctm_div.score(model_ctm_output) # Compute score of the metric"
   ]
  },
  {
   "cell_type": "code",
   "execution_count": 54,
   "metadata": {
    "colab": {
     "base_uri": "https://localhost:8080/"
    },
    "id": "nbwvXxMqvyTz",
    "outputId": "bcf6321a-611c-4856-8dcb-f419e93deecd"
   },
   "outputs": [
    {
     "data": {
      "text/plain": [
       "0.75"
      ]
     },
     "execution_count": 54,
     "metadata": {},
     "output_type": "execute_result"
    }
   ],
   "source": [
    "ctm_topic_diversity_score"
   ]
  },
  {
   "cell_type": "code",
   "execution_count": 55,
   "metadata": {
    "id": "S4KAmyGAwGJK"
   },
   "outputs": [],
   "source": [
    "ctm_kld = KLDivergence() # Initialize metric\n",
    "ctm_kld_score = ctm_kld.score(model_ctm_output) # Compute score of the metric"
   ]
  },
  {
   "cell_type": "code",
   "execution_count": 56,
   "metadata": {
    "id": "kXPR5GkkwG3X"
   },
   "outputs": [
    {
     "data": {
      "text/plain": [
       "nan"
      ]
     },
     "execution_count": 56,
     "metadata": {},
     "output_type": "execute_result"
    }
   ],
   "source": [
    "ctm_kld_score"
   ]
  },
  {
   "cell_type": "code",
   "execution_count": 57,
   "metadata": {},
   "outputs": [],
   "source": [
    "ctm_npmi = Coherence(corpus_double_list)\n",
    "ctm_npmi_score = ctm_npmi.score(model_ctm_output) # Compute score of the metric"
   ]
  },
  {
   "cell_type": "code",
   "execution_count": 58,
   "metadata": {},
   "outputs": [
    {
     "data": {
      "text/plain": [
       "-0.2099663858381718"
      ]
     },
     "execution_count": 58,
     "metadata": {},
     "output_type": "execute_result"
    }
   ],
   "source": [
    "ctm_npmi_score"
   ]
  },
  {
   "cell_type": "code",
   "execution_count": null,
   "metadata": {},
   "outputs": [],
   "source": []
  }
 ],
 "metadata": {
  "colab": {
   "name": "LDA.ipynb",
   "provenance": []
  },
  "kernelspec": {
   "display_name": "Python 3",
   "language": "python",
   "name": "python3"
  },
  "language_info": {
   "codemirror_mode": {
    "name": "ipython",
    "version": 3
   },
   "file_extension": ".py",
   "mimetype": "text/x-python",
   "name": "python",
   "nbconvert_exporter": "python",
   "pygments_lexer": "ipython3",
   "version": "3.9.7"
  }
 },
 "nbformat": 4,
 "nbformat_minor": 1
}
